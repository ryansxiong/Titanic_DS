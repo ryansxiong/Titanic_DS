{
 "cells": [
  {
   "cell_type": "code",
   "execution_count": 1,
   "id": "05955ba4",
   "metadata": {},
   "outputs": [],
   "source": [
    "import pandas as pd\n",
    "import numpy as np\n",
    "import seaborn as sns\n",
    "import matplotlib.pyplot as plt"
   ]
  },
  {
   "cell_type": "code",
   "execution_count": 2,
   "id": "881b7c33",
   "metadata": {},
   "outputs": [],
   "source": [
    "training = pd.read_csv('train.csv')\n",
    "test = pd.read_csv('test.csv')\n",
    "\n",
    "# defining different dataset when combining\n",
    "training['testing'] = 1\n",
    "test['testing'] = 0\n",
    "test['Survived'] = np.NaN\n",
    "df = pd.concat([training,test])"
   ]
  },
  {
   "cell_type": "code",
   "execution_count": 4,
   "id": "097f01b3",
   "metadata": {},
   "outputs": [
    {
     "data": {
      "text/plain": [
       "<AxesSubplot:>"
      ]
     },
     "execution_count": 4,
     "metadata": {},
     "output_type": "execute_result"
    },
    {
     "data": {
      "image/png": "[encoded data removed]",
      "text/plain": [
       "<Figure size 432x288 with 1 Axes>"
      ]
     },
     "metadata": {
      "needs_background": "light"
     },
     "output_type": "display_data"
    }
   ],
   "source": [
    "# Looking at histograms\n",
    "training['Age'].hist()"
   ]
  },
  {
   "cell_type": "code",
   "execution_count": 5,
   "id": "43f8af41",
   "metadata": {},
   "outputs": [
    {
     "data": {
      "text/plain": [
       "<AxesSubplot:>"
      ]
     },
     "execution_count": 5,
     "metadata": {},
     "output_type": "execute_result"
    },
    {
     "data": {
      "image/png": "[encoded data removed]",
      "text/plain": [
       "<Figure size 432x288 with 1 Axes>"
      ]
     },
     "metadata": {
      "needs_background": "light"
     },
     "output_type": "display_data"
    }
   ],
   "source": [
    "training['SibSp'].hist()"
   ]
  },
  {
   "cell_type": "code",
   "execution_count": 6,
   "id": "77f48ce8",
   "metadata": {},
   "outputs": [
    {
     "data": {
      "text/plain": [
       "<AxesSubplot:>"
      ]
     },
     "execution_count": 6,
     "metadata": {},
     "output_type": "execute_result"
    },
    {
     "data": {
      "image/png": "[encoded data removed]",
      "text/plain": [
       "<Figure size 432x288 with 1 Axes>"
      ]
     },
     "metadata": {
      "needs_background": "light"
     },
     "output_type": "display_data"
    }
   ],
   "source": [
    "training['Parch'].hist()"
   ]
  },
  {
   "cell_type": "code",
   "execution_count": 7,
   "id": "66fdc44b",
   "metadata": {},
   "outputs": [
    {
     "data": {
      "text/plain": [
       "<AxesSubplot:>"
      ]
     },
     "execution_count": 7,
     "metadata": {},
     "output_type": "execute_result"
    },
    {
     "data": {
      "image/png": "[encoded data removed]",
      "text/plain": [
       "<Figure size 432x288 with 1 Axes>"
      ]
     },
     "metadata": {
      "needs_background": "light"
     },
     "output_type": "display_data"
    }
   ],
   "source": [
    "training['Fare'].hist()"
   ]
  },
  {
   "cell_type": "code",
   "execution_count": 8,
   "id": "32af4cb4",
   "metadata": {},
   "outputs": [
    {
     "data": {
      "text/plain": [
       "0    678\n",
       "1    118\n",
       "2     80\n",
       "3      5\n",
       "5      5\n",
       "4      4\n",
       "6      1\n",
       "Name: Parch, dtype: int64"
      ]
     },
     "execution_count": 8,
     "metadata": {},
     "output_type": "execute_result"
    }
   ],
   "source": [
    "training['Parch'].value_counts()"
   ]
  },
  {
   "cell_type": "code",
   "execution_count": 9,
   "id": "980bf684",
   "metadata": {},
   "outputs": [
    {
     "data": {
      "text/plain": [
       "0    608\n",
       "1    209\n",
       "2     28\n",
       "4     18\n",
       "3     16\n",
       "8      7\n",
       "5      5\n",
       "Name: SibSp, dtype: int64"
      ]
     },
     "execution_count": 9,
     "metadata": {},
     "output_type": "execute_result"
    }
   ],
   "source": [
    "training['SibSp'].value_counts()"
   ]
  },
  {
   "cell_type": "code",
   "execution_count": 10,
   "id": "c90ea50c",
   "metadata": {},
   "outputs": [
    {
     "data": {
      "text/html": [
       "<div>\n",
       "<style scoped>\n",
       "    .dataframe tbody tr th:only-of-type {\n",
       "        vertical-align: middle;\n",
       "    }\n",
       "\n",
       "    .dataframe tbody tr th {\n",
       "        vertical-align: top;\n",
       "    }\n",
       "\n",
       "    .dataframe thead th {\n",
       "        text-align: right;\n",
       "    }\n",
       "</style>\n",
       "<table border=\"1\" class=\"dataframe\">\n",
       "  <thead>\n",
       "    <tr style=\"text-align: right;\">\n",
       "      <th></th>\n",
       "      <th>Age</th>\n",
       "      <th>Fare</th>\n",
       "      <th>Parch</th>\n",
       "      <th>Pclass</th>\n",
       "      <th>SibSp</th>\n",
       "    </tr>\n",
       "    <tr>\n",
       "      <th>Survived</th>\n",
       "      <th></th>\n",
       "      <th></th>\n",
       "      <th></th>\n",
       "      <th></th>\n",
       "      <th></th>\n",
       "    </tr>\n",
       "  </thead>\n",
       "  <tbody>\n",
       "    <tr>\n",
       "      <th>0</th>\n",
       "      <td>30.626179</td>\n",
       "      <td>22.117887</td>\n",
       "      <td>0.329690</td>\n",
       "      <td>2.531876</td>\n",
       "      <td>0.553734</td>\n",
       "    </tr>\n",
       "    <tr>\n",
       "      <th>1</th>\n",
       "      <td>28.343690</td>\n",
       "      <td>48.395408</td>\n",
       "      <td>0.464912</td>\n",
       "      <td>1.950292</td>\n",
       "      <td>0.473684</td>\n",
       "    </tr>\n",
       "  </tbody>\n",
       "</table>\n",
       "</div>"
      ],
      "text/plain": [
       "                Age       Fare     Parch    Pclass     SibSp\n",
       "Survived                                                    \n",
       "0         30.626179  22.117887  0.329690  2.531876  0.553734\n",
       "1         28.343690  48.395408  0.464912  1.950292  0.473684"
      ]
     },
     "execution_count": 10,
     "metadata": {},
     "output_type": "execute_result"
    }
   ],
   "source": [
    "# Looking at avg survived for these columns\n",
    "pd.pivot_table(training, index = 'Survived', values = ['Pclass', 'Age', 'SibSp', 'Parch', 'Fare'])"
   ]
  },
  {
   "cell_type": "code",
   "execution_count": 11,
   "id": "73f50b9d",
   "metadata": {},
   "outputs": [
    {
     "data": {
      "text/plain": [
       "<AxesSubplot:>"
      ]
     },
     "execution_count": 11,
     "metadata": {},
     "output_type": "execute_result"
    },
    {
     "data": {
      "image/png": "[encoded data removed]",
      "text/plain": [
       "<Figure size 432x288 with 2 Axes>"
      ]
     },
     "metadata": {
      "needs_background": "light"
     },
     "output_type": "display_data"
    }
   ],
   "source": [
    "sns.heatmap(training[['Pclass', 'Age', 'SibSp', 'Parch', 'Fare']].corr())"
   ]
  },
  {
   "cell_type": "code",
   "execution_count": 15,
   "id": "585ef08e",
   "metadata": {},
   "outputs": [
    {
     "data": {
      "image/png": "[encoded data removed]",
      "text/plain": [
       "<Figure size 432x288 with 1 Axes>"
      ]
     },
     "metadata": {
      "needs_background": "light"
     },
     "output_type": "display_data"
    },
    {
     "data": {
      "image/png": "[encoded data removed]",
      "text/plain": [
       "<Figure size 432x288 with 1 Axes>"
      ]
     },
     "metadata": {
      "needs_background": "light"
     },
     "output_type": "display_data"
    },
    {
     "data": {
      "image/png": "[encoded data removed]",
      "text/plain": [
       "<Figure size 432x288 with 1 Axes>"
      ]
     },
     "metadata": {
      "needs_background": "light"
     },
     "output_type": "display_data"
    },
    {
     "data": {
      "image/png": "[encoded data removed]",
      "text/plain": [
       "<Figure size 432x288 with 1 Axes>"
      ]
     },
     "metadata": {
      "needs_background": "light"
     },
     "output_type": "display_data"
    },
    {
     "data": {
      "image/png": "[encoded data removed]",
      "text/plain": [
       "<Figure size 432x288 with 1 Axes>"
      ]
     },
     "metadata": {
      "needs_background": "light"
     },
     "output_type": "display_data"
    },
    {
     "data": {
      "image/png": "[encoded data removed]",
      "text/plain": [
       "<Figure size 432x288 with 1 Axes>"
      ]
     },
     "metadata": {
      "needs_background": "light"
     },
     "output_type": "display_data"
    }
   ],
   "source": [
    "import warnings\n",
    "def ignore_warn(*args, **kwargs):\n",
    "    pass\n",
    "warnings.warn = ignore_warn\n",
    "a = training[['Survived','Pclass','Sex','Ticket','Cabin','Embarked']]\n",
    "for i in a.columns:\n",
    "    sns.barplot(a[i].value_counts().index, a[i].value_counts()).set_title(i)\n",
    "    plt.show()"
   ]
  },
  {
   "cell_type": "markdown",
   "id": "9114d20f",
   "metadata": {},
   "source": [
    "# Deeper look into Cabin"
   ]
  },
  {
   "cell_type": "code",
   "execution_count": 3,
   "id": "f73cfcb4",
   "metadata": {},
   "outputs": [
    {
     "data": {
      "text/plain": [
       "C    59\n",
       "B    47\n",
       "D    33\n",
       "E    32\n",
       "A    15\n",
       "F    13\n",
       "G     4\n",
       "T     1\n",
       "Name: cabin_letter, dtype: int64"
      ]
     },
     "execution_count": 3,
     "metadata": {},
     "output_type": "execute_result"
    }
   ],
   "source": [
    "# New column for cabin letters\n",
    "training['cabin_letter'] = training['Cabin'].str[:1]\n",
    "training['cabin_letter'].value_counts()"
   ]
  },
  {
   "cell_type": "code",
   "execution_count": 4,
   "id": "5f9e2b14",
   "metadata": {},
   "outputs": [
    {
     "data": {
      "text/html": [
       "<div>\n",
       "<style scoped>\n",
       "    .dataframe tbody tr th:only-of-type {\n",
       "        vertical-align: middle;\n",
       "    }\n",
       "\n",
       "    .dataframe tbody tr th {\n",
       "        vertical-align: top;\n",
       "    }\n",
       "\n",
       "    .dataframe thead th {\n",
       "        text-align: right;\n",
       "    }\n",
       "</style>\n",
       "<table border=\"1\" class=\"dataframe\">\n",
       "  <thead>\n",
       "    <tr style=\"text-align: right;\">\n",
       "      <th></th>\n",
       "      <th>Ratio Percentage</th>\n",
       "    </tr>\n",
       "  </thead>\n",
       "  <tbody>\n",
       "    <tr>\n",
       "      <th>B</th>\n",
       "      <td>17.156863</td>\n",
       "    </tr>\n",
       "    <tr>\n",
       "      <th>C</th>\n",
       "      <td>17.156863</td>\n",
       "    </tr>\n",
       "    <tr>\n",
       "      <th>D</th>\n",
       "      <td>12.254902</td>\n",
       "    </tr>\n",
       "    <tr>\n",
       "      <th>E</th>\n",
       "      <td>11.764706</td>\n",
       "    </tr>\n",
       "    <tr>\n",
       "      <th>F</th>\n",
       "      <td>3.921569</td>\n",
       "    </tr>\n",
       "    <tr>\n",
       "      <th>A</th>\n",
       "      <td>3.431373</td>\n",
       "    </tr>\n",
       "    <tr>\n",
       "      <th>G</th>\n",
       "      <td>0.980392</td>\n",
       "    </tr>\n",
       "  </tbody>\n",
       "</table>\n",
       "</div>"
      ],
      "text/plain": [
       "   Ratio Percentage\n",
       "B         17.156863\n",
       "C         17.156863\n",
       "D         12.254902\n",
       "E         11.764706\n",
       "F          3.921569\n",
       "A          3.431373\n",
       "G          0.980392"
      ]
     },
     "execution_count": 4,
     "metadata": {},
     "output_type": "execute_result"
    }
   ],
   "source": [
    "# Looking at the survival percentage of cabin letters (there are only 204 cabins in dataset)\n",
    "count = (training.cabin_letter[training['Survived'] == 1].value_counts() \n",
    "         / training['cabin_letter'].notnull().sum())* 100\n",
    "ratio = pd.DataFrame({'Ratio Percentage' :count})\n",
    "ratio.head(15)"
   ]
  },
  {
   "cell_type": "code",
   "execution_count": 5,
   "id": "f030384f",
   "metadata": {},
   "outputs": [],
   "source": [
    "# added value n for all null values\n",
    "training['cabin_letter'] = training['cabin_letter'].apply(lambda x: 'n' if pd.isna(x) else x)"
   ]
  },
  {
   "cell_type": "code",
   "execution_count": 6,
   "id": "48f6e335",
   "metadata": {},
   "outputs": [],
   "source": [
    "# changing the df as well\n",
    "df['cabin_letter'] = df['Cabin'].str[:1]\n",
    "df['cabin_letter'] = df['cabin_letter'].apply(lambda x: 'n' if pd.isna(x) else x)"
   ]
  },
  {
   "cell_type": "code",
   "execution_count": 7,
   "id": "768c1471",
   "metadata": {},
   "outputs": [
    {
     "data": {
      "text/html": [
       "<div>\n",
       "<style scoped>\n",
       "    .dataframe tbody tr th:only-of-type {\n",
       "        vertical-align: middle;\n",
       "    }\n",
       "\n",
       "    .dataframe tbody tr th {\n",
       "        vertical-align: top;\n",
       "    }\n",
       "\n",
       "    .dataframe thead th {\n",
       "        text-align: right;\n",
       "    }\n",
       "</style>\n",
       "<table border=\"1\" class=\"dataframe\">\n",
       "  <thead>\n",
       "    <tr style=\"text-align: right;\">\n",
       "      <th>cabin_letter</th>\n",
       "      <th>A</th>\n",
       "      <th>B</th>\n",
       "      <th>C</th>\n",
       "      <th>D</th>\n",
       "      <th>E</th>\n",
       "      <th>F</th>\n",
       "      <th>G</th>\n",
       "      <th>T</th>\n",
       "      <th>n</th>\n",
       "    </tr>\n",
       "    <tr>\n",
       "      <th>Survived</th>\n",
       "      <th></th>\n",
       "      <th></th>\n",
       "      <th></th>\n",
       "      <th></th>\n",
       "      <th></th>\n",
       "      <th></th>\n",
       "      <th></th>\n",
       "      <th></th>\n",
       "      <th></th>\n",
       "    </tr>\n",
       "  </thead>\n",
       "  <tbody>\n",
       "    <tr>\n",
       "      <th>0</th>\n",
       "      <td>8.0</td>\n",
       "      <td>12.0</td>\n",
       "      <td>24.0</td>\n",
       "      <td>8.0</td>\n",
       "      <td>8.0</td>\n",
       "      <td>5.0</td>\n",
       "      <td>2.0</td>\n",
       "      <td>1.0</td>\n",
       "      <td>481.0</td>\n",
       "    </tr>\n",
       "    <tr>\n",
       "      <th>1</th>\n",
       "      <td>7.0</td>\n",
       "      <td>35.0</td>\n",
       "      <td>35.0</td>\n",
       "      <td>25.0</td>\n",
       "      <td>24.0</td>\n",
       "      <td>8.0</td>\n",
       "      <td>2.0</td>\n",
       "      <td>NaN</td>\n",
       "      <td>206.0</td>\n",
       "    </tr>\n",
       "  </tbody>\n",
       "</table>\n",
       "</div>"
      ],
      "text/plain": [
       "cabin_letter    A     B     C     D     E    F    G    T      n\n",
       "Survived                                                       \n",
       "0             8.0  12.0  24.0   8.0   8.0  5.0  2.0  1.0  481.0\n",
       "1             7.0  35.0  35.0  25.0  24.0  8.0  2.0  NaN  206.0"
      ]
     },
     "execution_count": 7,
     "metadata": {},
     "output_type": "execute_result"
    }
   ],
   "source": [
    "# count of survivors for cabin letter\n",
    "pd.pivot_table(training, index = 'Survived', values = 'Name', columns = 'cabin_letter', aggfunc = 'count')"
   ]
  },
  {
   "cell_type": "code",
   "execution_count": 8,
   "id": "a5dd4d28",
   "metadata": {},
   "outputs": [],
   "source": [
    "# New column for cabin numbers\n",
    "training['cabin_multiple'] = training.Cabin.apply(lambda x: 0 if pd.isna(x) else len(x.split(' ')))"
   ]
  },
  {
   "cell_type": "code",
   "execution_count": 9,
   "id": "be0d3fc2",
   "metadata": {},
   "outputs": [],
   "source": [
    "df['cabin_multiple'] = df.Cabin.apply(lambda x: 0 if pd.isna(x) else len(x.split(' ')))"
   ]
  },
  {
   "cell_type": "code",
   "execution_count": 10,
   "id": "c2c28628",
   "metadata": {},
   "outputs": [
    {
     "data": {
      "text/html": [
       "<div>\n",
       "<style scoped>\n",
       "    .dataframe tbody tr th:only-of-type {\n",
       "        vertical-align: middle;\n",
       "    }\n",
       "\n",
       "    .dataframe tbody tr th {\n",
       "        vertical-align: top;\n",
       "    }\n",
       "\n",
       "    .dataframe thead th {\n",
       "        text-align: right;\n",
       "    }\n",
       "</style>\n",
       "<table border=\"1\" class=\"dataframe\">\n",
       "  <thead>\n",
       "    <tr style=\"text-align: right;\">\n",
       "      <th></th>\n",
       "      <th>Ratio Percentage</th>\n",
       "    </tr>\n",
       "  </thead>\n",
       "  <tbody>\n",
       "    <tr>\n",
       "      <th>n</th>\n",
       "      <td>23.120090</td>\n",
       "    </tr>\n",
       "    <tr>\n",
       "      <th>B</th>\n",
       "      <td>3.928171</td>\n",
       "    </tr>\n",
       "    <tr>\n",
       "      <th>C</th>\n",
       "      <td>3.928171</td>\n",
       "    </tr>\n",
       "    <tr>\n",
       "      <th>D</th>\n",
       "      <td>2.805836</td>\n",
       "    </tr>\n",
       "    <tr>\n",
       "      <th>E</th>\n",
       "      <td>2.693603</td>\n",
       "    </tr>\n",
       "    <tr>\n",
       "      <th>F</th>\n",
       "      <td>0.897868</td>\n",
       "    </tr>\n",
       "    <tr>\n",
       "      <th>A</th>\n",
       "      <td>0.785634</td>\n",
       "    </tr>\n",
       "    <tr>\n",
       "      <th>G</th>\n",
       "      <td>0.224467</td>\n",
       "    </tr>\n",
       "  </tbody>\n",
       "</table>\n",
       "</div>"
      ],
      "text/plain": [
       "   Ratio Percentage\n",
       "n         23.120090\n",
       "B          3.928171\n",
       "C          3.928171\n",
       "D          2.805836\n",
       "E          2.693603\n",
       "F          0.897868\n",
       "A          0.785634\n",
       "G          0.224467"
      ]
     },
     "execution_count": 10,
     "metadata": {},
     "output_type": "execute_result"
    }
   ],
   "source": [
    "# Looking at the survival percentage of cabin letters (there are only 204 cabins in dataset)\n",
    "count = (training.cabin_letter[training['Survived'] == 1].value_counts() \n",
    "         / training['cabin_multiple'].notnull().sum())* 100\n",
    "ratio = pd.DataFrame({'Ratio Percentage' :count})\n",
    "ratio.head(15)"
   ]
  },
  {
   "cell_type": "code",
   "execution_count": 11,
   "id": "775e70ba",
   "metadata": {},
   "outputs": [
    {
     "data": {
      "text/html": [
       "<div>\n",
       "<style scoped>\n",
       "    .dataframe tbody tr th:only-of-type {\n",
       "        vertical-align: middle;\n",
       "    }\n",
       "\n",
       "    .dataframe tbody tr th {\n",
       "        vertical-align: top;\n",
       "    }\n",
       "\n",
       "    .dataframe thead th {\n",
       "        text-align: right;\n",
       "    }\n",
       "</style>\n",
       "<table border=\"1\" class=\"dataframe\">\n",
       "  <thead>\n",
       "    <tr style=\"text-align: right;\">\n",
       "      <th>cabin_multiple</th>\n",
       "      <th>0</th>\n",
       "      <th>1</th>\n",
       "      <th>2</th>\n",
       "      <th>3</th>\n",
       "      <th>4</th>\n",
       "    </tr>\n",
       "    <tr>\n",
       "      <th>Survived</th>\n",
       "      <th></th>\n",
       "      <th></th>\n",
       "      <th></th>\n",
       "      <th></th>\n",
       "      <th></th>\n",
       "    </tr>\n",
       "  </thead>\n",
       "  <tbody>\n",
       "    <tr>\n",
       "      <th>0</th>\n",
       "      <td>481.0</td>\n",
       "      <td>58.0</td>\n",
       "      <td>7.0</td>\n",
       "      <td>3.0</td>\n",
       "      <td>NaN</td>\n",
       "    </tr>\n",
       "    <tr>\n",
       "      <th>1</th>\n",
       "      <td>206.0</td>\n",
       "      <td>122.0</td>\n",
       "      <td>9.0</td>\n",
       "      <td>3.0</td>\n",
       "      <td>2.0</td>\n",
       "    </tr>\n",
       "  </tbody>\n",
       "</table>\n",
       "</div>"
      ],
      "text/plain": [
       "cabin_multiple      0      1    2    3    4\n",
       "Survived                                   \n",
       "0               481.0   58.0  7.0  3.0  NaN\n",
       "1               206.0  122.0  9.0  3.0  2.0"
      ]
     },
     "execution_count": 11,
     "metadata": {},
     "output_type": "execute_result"
    }
   ],
   "source": [
    "# count of survivors for cabin letter\n",
    "pd.pivot_table(training, index = 'Survived', values = 'Name', columns = 'cabin_multiple', aggfunc = 'count')"
   ]
  },
  {
   "cell_type": "markdown",
   "id": "394bf09e",
   "metadata": {},
   "source": [
    "# Separating Fare prices into low, med, and high"
   ]
  },
  {
   "cell_type": "code",
   "execution_count": 12,
   "id": "69fda530",
   "metadata": {},
   "outputs": [],
   "source": [
    "# separating fare prices (The middle value is the median and the avg)\n",
    "training['fare_sep'] = training['Fare'].apply(lambda x: 2 if x > 32 else (1 if x >= 15  and x <= 32 else 0))"
   ]
  },
  {
   "cell_type": "code",
   "execution_count": 13,
   "id": "6a04d86c",
   "metadata": {},
   "outputs": [
    {
     "data": {
      "text/plain": [
       "0    457\n",
       "1    223\n",
       "2    211\n",
       "Name: fare_sep, dtype: int64"
      ]
     },
     "execution_count": 13,
     "metadata": {},
     "output_type": "execute_result"
    }
   ],
   "source": [
    "training['fare_sep'].value_counts()"
   ]
  },
  {
   "cell_type": "code",
   "execution_count": 14,
   "id": "b6b5c7e3",
   "metadata": {},
   "outputs": [
    {
     "data": {
      "text/html": [
       "<div>\n",
       "<style scoped>\n",
       "    .dataframe tbody tr th:only-of-type {\n",
       "        vertical-align: middle;\n",
       "    }\n",
       "\n",
       "    .dataframe tbody tr th {\n",
       "        vertical-align: top;\n",
       "    }\n",
       "\n",
       "    .dataframe thead th {\n",
       "        text-align: right;\n",
       "    }\n",
       "</style>\n",
       "<table border=\"1\" class=\"dataframe\">\n",
       "  <thead>\n",
       "    <tr style=\"text-align: right;\">\n",
       "      <th>fare_sep</th>\n",
       "      <th>0</th>\n",
       "      <th>1</th>\n",
       "      <th>2</th>\n",
       "    </tr>\n",
       "    <tr>\n",
       "      <th>Survived</th>\n",
       "      <th></th>\n",
       "      <th></th>\n",
       "      <th></th>\n",
       "    </tr>\n",
       "  </thead>\n",
       "  <tbody>\n",
       "    <tr>\n",
       "      <th>0</th>\n",
       "      <td>343</td>\n",
       "      <td>121</td>\n",
       "      <td>85</td>\n",
       "    </tr>\n",
       "    <tr>\n",
       "      <th>1</th>\n",
       "      <td>114</td>\n",
       "      <td>102</td>\n",
       "      <td>126</td>\n",
       "    </tr>\n",
       "  </tbody>\n",
       "</table>\n",
       "</div>"
      ],
      "text/plain": [
       "fare_sep    0    1    2\n",
       "Survived               \n",
       "0         343  121   85\n",
       "1         114  102  126"
      ]
     },
     "execution_count": 14,
     "metadata": {},
     "output_type": "execute_result"
    }
   ],
   "source": [
    "# count of survivors for fare_sep\n",
    "pd.pivot_table(training, index = 'Survived', values = 'Name', columns = 'fare_sep', aggfunc = 'count')"
   ]
  },
  {
   "cell_type": "code",
   "execution_count": 15,
   "id": "489ae7ca",
   "metadata": {},
   "outputs": [],
   "source": [
    "df['fare_sep'] = df['Fare'].apply(lambda x: 2 if x > 32 else (1 if x >= 15  and x <= 32 else 0))"
   ]
  },
  {
   "cell_type": "code",
   "execution_count": 16,
   "id": "af293c80",
   "metadata": {},
   "outputs": [],
   "source": [
    "df['fare_sep'] = df['fare_sep'].astype(str)"
   ]
  },
  {
   "cell_type": "markdown",
   "id": "61ff7219",
   "metadata": {},
   "source": [
    "# Further look into tickets"
   ]
  },
  {
   "cell_type": "code",
   "execution_count": 17,
   "id": "e8709cae",
   "metadata": {},
   "outputs": [],
   "source": [
    "# looking at ticket number\n",
    "training['ticket_number'] = training.Ticket.apply(lambda x: 1 if x.isnumeric() else 0)"
   ]
  },
  {
   "cell_type": "code",
   "execution_count": 18,
   "id": "96828021",
   "metadata": {},
   "outputs": [
    {
     "data": {
      "text/plain": [
       "1    661\n",
       "0    230\n",
       "Name: ticket_number, dtype: int64"
      ]
     },
     "execution_count": 18,
     "metadata": {},
     "output_type": "execute_result"
    }
   ],
   "source": [
    "training['ticket_number'].value_counts()"
   ]
  },
  {
   "cell_type": "code",
   "execution_count": 19,
   "id": "fa19cee7",
   "metadata": {},
   "outputs": [
    {
     "data": {
      "text/html": [
       "<div>\n",
       "<style scoped>\n",
       "    .dataframe tbody tr th:only-of-type {\n",
       "        vertical-align: middle;\n",
       "    }\n",
       "\n",
       "    .dataframe tbody tr th {\n",
       "        vertical-align: top;\n",
       "    }\n",
       "\n",
       "    .dataframe thead th {\n",
       "        text-align: right;\n",
       "    }\n",
       "</style>\n",
       "<table border=\"1\" class=\"dataframe\">\n",
       "  <thead>\n",
       "    <tr style=\"text-align: right;\">\n",
       "      <th>ticket_number</th>\n",
       "      <th>0</th>\n",
       "      <th>1</th>\n",
       "    </tr>\n",
       "    <tr>\n",
       "      <th>Survived</th>\n",
       "      <th></th>\n",
       "      <th></th>\n",
       "    </tr>\n",
       "  </thead>\n",
       "  <tbody>\n",
       "    <tr>\n",
       "      <th>0</th>\n",
       "      <td>142</td>\n",
       "      <td>407</td>\n",
       "    </tr>\n",
       "    <tr>\n",
       "      <th>1</th>\n",
       "      <td>88</td>\n",
       "      <td>254</td>\n",
       "    </tr>\n",
       "  </tbody>\n",
       "</table>\n",
       "</div>"
      ],
      "text/plain": [
       "ticket_number    0    1\n",
       "Survived               \n",
       "0              142  407\n",
       "1               88  254"
      ]
     },
     "execution_count": 19,
     "metadata": {},
     "output_type": "execute_result"
    }
   ],
   "source": [
    "pd.pivot_table(training, index = 'Survived', values = 'Name', columns = 'ticket_number', aggfunc = 'count')"
   ]
  },
  {
   "cell_type": "code",
   "execution_count": 20,
   "id": "593412e1",
   "metadata": {},
   "outputs": [],
   "source": [
    "# looking at ticket letters\n",
    "training['ticket_letters'] = training.Ticket.apply(lambda x: ''.join(x.split(' ')[:-1])\n",
    "                                                   .replace('.','').replace('/','')\n",
    "                                                   .lower() if len(x.split(' ')[:-1]) >0 else 0)"
   ]
  },
  {
   "cell_type": "code",
   "execution_count": 21,
   "id": "fc61e6b1",
   "metadata": {},
   "outputs": [
    {
     "data": {
      "text/plain": [
       "0            665\n",
       "pc            60\n",
       "ca            41\n",
       "a5            21\n",
       "stono2        18\n",
       "sotonoq       15\n",
       "scparis       11\n",
       "wc            10\n",
       "a4             7\n",
       "soc            6\n",
       "fcc            5\n",
       "c              5\n",
       "pp             3\n",
       "wep            3\n",
       "sopp           3\n",
       "swpp           2\n",
       "ppp            2\n",
       "scah           2\n",
       "sotono2        2\n",
       "scahbasle      1\n",
       "fa             1\n",
       "scow           1\n",
       "sca4           1\n",
       "as             1\n",
       "sc             1\n",
       "sop            1\n",
       "sp             1\n",
       "fc             1\n",
       "casoton        1\n",
       "Name: ticket_letters, dtype: int64"
      ]
     },
     "execution_count": 21,
     "metadata": {},
     "output_type": "execute_result"
    }
   ],
   "source": [
    "training['ticket_letters'].value_counts()"
   ]
  },
  {
   "cell_type": "code",
   "execution_count": 22,
   "id": "78e77988",
   "metadata": {},
   "outputs": [
    {
     "data": {
      "text/html": [
       "<div>\n",
       "<style scoped>\n",
       "    .dataframe tbody tr th:only-of-type {\n",
       "        vertical-align: middle;\n",
       "    }\n",
       "\n",
       "    .dataframe tbody tr th {\n",
       "        vertical-align: top;\n",
       "    }\n",
       "\n",
       "    .dataframe thead th {\n",
       "        text-align: right;\n",
       "    }\n",
       "</style>\n",
       "<table border=\"1\" class=\"dataframe\">\n",
       "  <thead>\n",
       "    <tr style=\"text-align: right;\">\n",
       "      <th>ticket_letters</th>\n",
       "      <th>0</th>\n",
       "      <th>a4</th>\n",
       "      <th>a5</th>\n",
       "      <th>as</th>\n",
       "      <th>c</th>\n",
       "      <th>ca</th>\n",
       "      <th>casoton</th>\n",
       "      <th>fa</th>\n",
       "      <th>fc</th>\n",
       "      <th>fcc</th>\n",
       "      <th>...</th>\n",
       "      <th>soc</th>\n",
       "      <th>sop</th>\n",
       "      <th>sopp</th>\n",
       "      <th>sotono2</th>\n",
       "      <th>sotonoq</th>\n",
       "      <th>sp</th>\n",
       "      <th>stono2</th>\n",
       "      <th>swpp</th>\n",
       "      <th>wc</th>\n",
       "      <th>wep</th>\n",
       "    </tr>\n",
       "    <tr>\n",
       "      <th>Survived</th>\n",
       "      <th></th>\n",
       "      <th></th>\n",
       "      <th></th>\n",
       "      <th></th>\n",
       "      <th></th>\n",
       "      <th></th>\n",
       "      <th></th>\n",
       "      <th></th>\n",
       "      <th></th>\n",
       "      <th></th>\n",
       "      <th></th>\n",
       "      <th></th>\n",
       "      <th></th>\n",
       "      <th></th>\n",
       "      <th></th>\n",
       "      <th></th>\n",
       "      <th></th>\n",
       "      <th></th>\n",
       "      <th></th>\n",
       "      <th></th>\n",
       "      <th></th>\n",
       "    </tr>\n",
       "  </thead>\n",
       "  <tbody>\n",
       "    <tr>\n",
       "      <th>0</th>\n",
       "      <td>410.0</td>\n",
       "      <td>7.0</td>\n",
       "      <td>19.0</td>\n",
       "      <td>1.0</td>\n",
       "      <td>3.0</td>\n",
       "      <td>27.0</td>\n",
       "      <td>1.0</td>\n",
       "      <td>1.0</td>\n",
       "      <td>1.0</td>\n",
       "      <td>1.0</td>\n",
       "      <td>...</td>\n",
       "      <td>5.0</td>\n",
       "      <td>1.0</td>\n",
       "      <td>3.0</td>\n",
       "      <td>2.0</td>\n",
       "      <td>13.0</td>\n",
       "      <td>1.0</td>\n",
       "      <td>10.0</td>\n",
       "      <td>NaN</td>\n",
       "      <td>9.0</td>\n",
       "      <td>2.0</td>\n",
       "    </tr>\n",
       "    <tr>\n",
       "      <th>1</th>\n",
       "      <td>255.0</td>\n",
       "      <td>NaN</td>\n",
       "      <td>2.0</td>\n",
       "      <td>NaN</td>\n",
       "      <td>2.0</td>\n",
       "      <td>14.0</td>\n",
       "      <td>NaN</td>\n",
       "      <td>NaN</td>\n",
       "      <td>NaN</td>\n",
       "      <td>4.0</td>\n",
       "      <td>...</td>\n",
       "      <td>1.0</td>\n",
       "      <td>NaN</td>\n",
       "      <td>NaN</td>\n",
       "      <td>NaN</td>\n",
       "      <td>2.0</td>\n",
       "      <td>NaN</td>\n",
       "      <td>8.0</td>\n",
       "      <td>2.0</td>\n",
       "      <td>1.0</td>\n",
       "      <td>1.0</td>\n",
       "    </tr>\n",
       "  </tbody>\n",
       "</table>\n",
       "<p>2 rows × 29 columns</p>\n",
       "</div>"
      ],
      "text/plain": [
       "ticket_letters      0   a4    a5   as    c    ca  casoton   fa   fc  fcc  ...  \\\n",
       "Survived                                                                  ...   \n",
       "0               410.0  7.0  19.0  1.0  3.0  27.0      1.0  1.0  1.0  1.0  ...   \n",
       "1               255.0  NaN   2.0  NaN  2.0  14.0      NaN  NaN  NaN  4.0  ...   \n",
       "\n",
       "ticket_letters  soc  sop  sopp  sotono2  sotonoq   sp  stono2  swpp   wc  wep  \n",
       "Survived                                                                       \n",
       "0               5.0  1.0   3.0      2.0     13.0  1.0    10.0   NaN  9.0  2.0  \n",
       "1               1.0  NaN   NaN      NaN      2.0  NaN     8.0   2.0  1.0  1.0  \n",
       "\n",
       "[2 rows x 29 columns]"
      ]
     },
     "execution_count": 22,
     "metadata": {},
     "output_type": "execute_result"
    }
   ],
   "source": [
    "pd.pivot_table(training, index = 'Survived', values = 'Name', columns = 'ticket_letters', aggfunc = 'count')"
   ]
  },
  {
   "cell_type": "code",
   "execution_count": 23,
   "id": "8b19aeaa",
   "metadata": {},
   "outputs": [],
   "source": [
    "df['ticket_number'] = df.Ticket.apply(lambda x: 1 if x.isnumeric() else 0)\n",
    "df['ticket_letters'] = df.Ticket.apply(lambda x: ''.join(x.split(' ')[:-1])\n",
    "                                                   .replace('.','').replace('/','')\n",
    "                                                   .lower() if len(x.split(' ')[:-1]) >0 else 0)"
   ]
  },
  {
   "cell_type": "markdown",
   "id": "1ffd039a",
   "metadata": {},
   "source": [
    "# Family Size"
   ]
  },
  {
   "cell_type": "code",
   "execution_count": 24,
   "id": "5f10b896",
   "metadata": {},
   "outputs": [],
   "source": [
    "training['FamilySize'] = training['SibSp'] + training['Parch'] + 1"
   ]
  },
  {
   "cell_type": "code",
   "execution_count": 25,
   "id": "1d9012f8",
   "metadata": {},
   "outputs": [
    {
     "data": {
      "text/plain": [
       "1     537\n",
       "2     161\n",
       "3     102\n",
       "4      29\n",
       "6      22\n",
       "5      15\n",
       "7      12\n",
       "11      7\n",
       "8       6\n",
       "Name: FamilySize, dtype: int64"
      ]
     },
     "execution_count": 25,
     "metadata": {},
     "output_type": "execute_result"
    }
   ],
   "source": [
    "training['FamilySize'].value_counts()"
   ]
  },
  {
   "cell_type": "code",
   "execution_count": 26,
   "id": "daba29c3",
   "metadata": {},
   "outputs": [
    {
     "data": {
      "text/html": [
       "<div>\n",
       "<style scoped>\n",
       "    .dataframe tbody tr th:only-of-type {\n",
       "        vertical-align: middle;\n",
       "    }\n",
       "\n",
       "    .dataframe tbody tr th {\n",
       "        vertical-align: top;\n",
       "    }\n",
       "\n",
       "    .dataframe thead th {\n",
       "        text-align: right;\n",
       "    }\n",
       "</style>\n",
       "<table border=\"1\" class=\"dataframe\">\n",
       "  <thead>\n",
       "    <tr style=\"text-align: right;\">\n",
       "      <th>FamilySize</th>\n",
       "      <th>1</th>\n",
       "      <th>2</th>\n",
       "      <th>3</th>\n",
       "      <th>4</th>\n",
       "      <th>5</th>\n",
       "      <th>6</th>\n",
       "      <th>7</th>\n",
       "      <th>8</th>\n",
       "      <th>11</th>\n",
       "    </tr>\n",
       "    <tr>\n",
       "      <th>Survived</th>\n",
       "      <th></th>\n",
       "      <th></th>\n",
       "      <th></th>\n",
       "      <th></th>\n",
       "      <th></th>\n",
       "      <th></th>\n",
       "      <th></th>\n",
       "      <th></th>\n",
       "      <th></th>\n",
       "    </tr>\n",
       "  </thead>\n",
       "  <tbody>\n",
       "    <tr>\n",
       "      <th>0</th>\n",
       "      <td>374.0</td>\n",
       "      <td>72.0</td>\n",
       "      <td>43.0</td>\n",
       "      <td>8.0</td>\n",
       "      <td>12.0</td>\n",
       "      <td>19.0</td>\n",
       "      <td>8.0</td>\n",
       "      <td>6.0</td>\n",
       "      <td>7.0</td>\n",
       "    </tr>\n",
       "    <tr>\n",
       "      <th>1</th>\n",
       "      <td>163.0</td>\n",
       "      <td>89.0</td>\n",
       "      <td>59.0</td>\n",
       "      <td>21.0</td>\n",
       "      <td>3.0</td>\n",
       "      <td>3.0</td>\n",
       "      <td>4.0</td>\n",
       "      <td>NaN</td>\n",
       "      <td>NaN</td>\n",
       "    </tr>\n",
       "  </tbody>\n",
       "</table>\n",
       "</div>"
      ],
      "text/plain": [
       "FamilySize     1     2     3     4     5     6    7    8    11\n",
       "Survived                                                      \n",
       "0           374.0  72.0  43.0   8.0  12.0  19.0  8.0  6.0  7.0\n",
       "1           163.0  89.0  59.0  21.0   3.0   3.0  4.0  NaN  NaN"
      ]
     },
     "execution_count": 26,
     "metadata": {},
     "output_type": "execute_result"
    }
   ],
   "source": [
    "pd.pivot_table(training, index = 'Survived', values = 'Name', columns = 'FamilySize', aggfunc = 'count')"
   ]
  },
  {
   "cell_type": "code",
   "execution_count": 27,
   "id": "022ffb95",
   "metadata": {},
   "outputs": [],
   "source": [
    "df['FamilySize'] = df['SibSp'] + df['Parch'] + 1\n",
    "df['FamilySize'] = df['FamilySize'].astype(str)"
   ]
  },
  {
   "cell_type": "markdown",
   "id": "d8759f64",
   "metadata": {},
   "source": [
    "# fixing and categorizing name column"
   ]
  },
  {
   "cell_type": "code",
   "execution_count": 28,
   "id": "6f0752ce",
   "metadata": {},
   "outputs": [],
   "source": [
    "# Getting name title\n",
    "df['name_title'] = df.Name.apply(lambda x: x.split(',')[1].split('.')[0].strip())"
   ]
  },
  {
   "cell_type": "code",
   "execution_count": 29,
   "id": "d36d6a35",
   "metadata": {},
   "outputs": [
    {
     "data": {
      "text/plain": [
       "Mr              757\n",
       "Miss            260\n",
       "Mrs             197\n",
       "Master           61\n",
       "Dr                8\n",
       "Rev               8\n",
       "Col               4\n",
       "Ms                2\n",
       "Major             2\n",
       "Mlle              2\n",
       "Mme               1\n",
       "Jonkheer          1\n",
       "the Countess      1\n",
       "Sir               1\n",
       "Don               1\n",
       "Lady              1\n",
       "Capt              1\n",
       "Dona              1\n",
       "Name: name_title, dtype: int64"
      ]
     },
     "execution_count": 29,
     "metadata": {},
     "output_type": "execute_result"
    }
   ],
   "source": [
    "df['name_title'].value_counts()"
   ]
  },
  {
   "cell_type": "code",
   "execution_count": 30,
   "id": "06e9b05b",
   "metadata": {},
   "outputs": [],
   "source": [
    "df['name_title'] = df['name_title'].replace(['the Countess'], 'Other')"
   ]
  },
  {
   "cell_type": "code",
   "execution_count": 31,
   "id": "7249c3a0",
   "metadata": {},
   "outputs": [],
   "source": [
    "df['name_title'] = df['name_title'].replace(['Don'], 'Other')"
   ]
  },
  {
   "cell_type": "code",
   "execution_count": 32,
   "id": "01c587cb",
   "metadata": {},
   "outputs": [
    {
     "data": {
      "text/html": [
       "<div>\n",
       "<style scoped>\n",
       "    .dataframe tbody tr th:only-of-type {\n",
       "        vertical-align: middle;\n",
       "    }\n",
       "\n",
       "    .dataframe tbody tr th {\n",
       "        vertical-align: top;\n",
       "    }\n",
       "\n",
       "    .dataframe thead th {\n",
       "        text-align: right;\n",
       "    }\n",
       "</style>\n",
       "<table border=\"1\" class=\"dataframe\">\n",
       "  <thead>\n",
       "    <tr style=\"text-align: right;\">\n",
       "      <th></th>\n",
       "      <th>name_title</th>\n",
       "      <th>Survived</th>\n",
       "    </tr>\n",
       "  </thead>\n",
       "  <tbody>\n",
       "    <tr>\n",
       "      <th>0</th>\n",
       "      <td>Capt</td>\n",
       "      <td>0.000000</td>\n",
       "    </tr>\n",
       "    <tr>\n",
       "      <th>1</th>\n",
       "      <td>Col</td>\n",
       "      <td>0.500000</td>\n",
       "    </tr>\n",
       "    <tr>\n",
       "      <th>2</th>\n",
       "      <td>Dona</td>\n",
       "      <td>NaN</td>\n",
       "    </tr>\n",
       "    <tr>\n",
       "      <th>3</th>\n",
       "      <td>Dr</td>\n",
       "      <td>0.428571</td>\n",
       "    </tr>\n",
       "    <tr>\n",
       "      <th>4</th>\n",
       "      <td>Jonkheer</td>\n",
       "      <td>0.000000</td>\n",
       "    </tr>\n",
       "    <tr>\n",
       "      <th>5</th>\n",
       "      <td>Lady</td>\n",
       "      <td>1.000000</td>\n",
       "    </tr>\n",
       "    <tr>\n",
       "      <th>6</th>\n",
       "      <td>Major</td>\n",
       "      <td>0.500000</td>\n",
       "    </tr>\n",
       "    <tr>\n",
       "      <th>7</th>\n",
       "      <td>Master</td>\n",
       "      <td>0.575000</td>\n",
       "    </tr>\n",
       "    <tr>\n",
       "      <th>8</th>\n",
       "      <td>Miss</td>\n",
       "      <td>0.697802</td>\n",
       "    </tr>\n",
       "    <tr>\n",
       "      <th>9</th>\n",
       "      <td>Mlle</td>\n",
       "      <td>1.000000</td>\n",
       "    </tr>\n",
       "    <tr>\n",
       "      <th>10</th>\n",
       "      <td>Mme</td>\n",
       "      <td>1.000000</td>\n",
       "    </tr>\n",
       "    <tr>\n",
       "      <th>11</th>\n",
       "      <td>Mr</td>\n",
       "      <td>0.156673</td>\n",
       "    </tr>\n",
       "    <tr>\n",
       "      <th>12</th>\n",
       "      <td>Mrs</td>\n",
       "      <td>0.792000</td>\n",
       "    </tr>\n",
       "    <tr>\n",
       "      <th>13</th>\n",
       "      <td>Ms</td>\n",
       "      <td>1.000000</td>\n",
       "    </tr>\n",
       "    <tr>\n",
       "      <th>14</th>\n",
       "      <td>Other</td>\n",
       "      <td>0.500000</td>\n",
       "    </tr>\n",
       "    <tr>\n",
       "      <th>15</th>\n",
       "      <td>Rev</td>\n",
       "      <td>0.000000</td>\n",
       "    </tr>\n",
       "    <tr>\n",
       "      <th>16</th>\n",
       "      <td>Sir</td>\n",
       "      <td>1.000000</td>\n",
       "    </tr>\n",
       "  </tbody>\n",
       "</table>\n",
       "</div>"
      ],
      "text/plain": [
       "   name_title  Survived\n",
       "0        Capt  0.000000\n",
       "1         Col  0.500000\n",
       "2        Dona       NaN\n",
       "3          Dr  0.428571\n",
       "4    Jonkheer  0.000000\n",
       "5        Lady  1.000000\n",
       "6       Major  0.500000\n",
       "7      Master  0.575000\n",
       "8        Miss  0.697802\n",
       "9        Mlle  1.000000\n",
       "10        Mme  1.000000\n",
       "11         Mr  0.156673\n",
       "12        Mrs  0.792000\n",
       "13         Ms  1.000000\n",
       "14      Other  0.500000\n",
       "15        Rev  0.000000\n",
       "16        Sir  1.000000"
      ]
     },
     "execution_count": 32,
     "metadata": {},
     "output_type": "execute_result"
    }
   ],
   "source": [
    "df[['name_title', 'Survived']].groupby(['name_title'], as_index=False).mean()"
   ]
  },
  {
   "cell_type": "code",
   "execution_count": 33,
   "id": "14017ad2",
   "metadata": {},
   "outputs": [
    {
     "data": {
      "text/html": [
       "<div>\n",
       "<style scoped>\n",
       "    .dataframe tbody tr th:only-of-type {\n",
       "        vertical-align: middle;\n",
       "    }\n",
       "\n",
       "    .dataframe tbody tr th {\n",
       "        vertical-align: top;\n",
       "    }\n",
       "\n",
       "    .dataframe thead th {\n",
       "        text-align: right;\n",
       "    }\n",
       "</style>\n",
       "<table border=\"1\" class=\"dataframe\">\n",
       "  <thead>\n",
       "    <tr style=\"text-align: right;\">\n",
       "      <th></th>\n",
       "      <th>name_title</th>\n",
       "      <th>Survived</th>\n",
       "    </tr>\n",
       "  </thead>\n",
       "  <tbody>\n",
       "    <tr>\n",
       "      <th>0</th>\n",
       "      <td>Master</td>\n",
       "      <td>0.575000</td>\n",
       "    </tr>\n",
       "    <tr>\n",
       "      <th>1</th>\n",
       "      <td>Miss</td>\n",
       "      <td>0.702703</td>\n",
       "    </tr>\n",
       "    <tr>\n",
       "      <th>2</th>\n",
       "      <td>Mr</td>\n",
       "      <td>0.156673</td>\n",
       "    </tr>\n",
       "    <tr>\n",
       "      <th>3</th>\n",
       "      <td>Mrs</td>\n",
       "      <td>0.793651</td>\n",
       "    </tr>\n",
       "    <tr>\n",
       "      <th>4</th>\n",
       "      <td>Other</td>\n",
       "      <td>0.347826</td>\n",
       "    </tr>\n",
       "  </tbody>\n",
       "</table>\n",
       "</div>"
      ],
      "text/plain": [
       "  name_title  Survived\n",
       "0     Master  0.575000\n",
       "1       Miss  0.702703\n",
       "2         Mr  0.156673\n",
       "3        Mrs  0.793651\n",
       "4      Other  0.347826"
      ]
     },
     "execution_count": 33,
     "metadata": {},
     "output_type": "execute_result"
    }
   ],
   "source": [
    "# shortening list of name titles (some did not change so i redid the code above) ^\n",
    "df['name_title'] = df['name_title'].replace(['Lady','Capt', 'Col', 'the Countess'\n",
    "                                             'Don', 'Dr', 'Major', 'Rev', 'Sir', 'Jonkheer', 'Dona'] \n",
    "                                             ,'Other')\n",
    "\n",
    "df['name_title'] = df['name_title'].replace('Mlle', 'Miss')\n",
    "df['name_title'] = df['name_title'].replace('Ms', 'Miss')\n",
    "df['name_title'] = df['name_title'].replace('Mme', 'Mrs')\n",
    "    \n",
    "df[['name_title', 'Survived']].groupby(['name_title'], as_index=False).mean()"
   ]
  },
  {
   "cell_type": "markdown",
   "id": "6236f447",
   "metadata": {},
   "source": [
    "# Preparing data for modelling"
   ]
  },
  {
   "cell_type": "code",
   "execution_count": 34,
   "id": "22849da2",
   "metadata": {},
   "outputs": [
    {
     "data": {
      "text/html": [
       "<div>\n",
       "<style scoped>\n",
       "    .dataframe tbody tr th:only-of-type {\n",
       "        vertical-align: middle;\n",
       "    }\n",
       "\n",
       "    .dataframe tbody tr th {\n",
       "        vertical-align: top;\n",
       "    }\n",
       "\n",
       "    .dataframe thead th {\n",
       "        text-align: right;\n",
       "    }\n",
       "</style>\n",
       "<table border=\"1\" class=\"dataframe\">\n",
       "  <thead>\n",
       "    <tr style=\"text-align: right;\">\n",
       "      <th></th>\n",
       "      <th>Missing Ratio</th>\n",
       "    </tr>\n",
       "  </thead>\n",
       "  <tbody>\n",
       "    <tr>\n",
       "      <th>Cabin</th>\n",
       "      <td>77.463713</td>\n",
       "    </tr>\n",
       "    <tr>\n",
       "      <th>Survived</th>\n",
       "      <td>31.932773</td>\n",
       "    </tr>\n",
       "    <tr>\n",
       "      <th>Age</th>\n",
       "      <td>20.091673</td>\n",
       "    </tr>\n",
       "    <tr>\n",
       "      <th>Embarked</th>\n",
       "      <td>0.152788</td>\n",
       "    </tr>\n",
       "    <tr>\n",
       "      <th>Fare</th>\n",
       "      <td>0.076394</td>\n",
       "    </tr>\n",
       "  </tbody>\n",
       "</table>\n",
       "</div>"
      ],
      "text/plain": [
       "          Missing Ratio\n",
       "Cabin         77.463713\n",
       "Survived      31.932773\n",
       "Age           20.091673\n",
       "Embarked       0.152788\n",
       "Fare           0.076394"
      ]
     },
     "execution_count": 34,
     "metadata": {},
     "output_type": "execute_result"
    }
   ],
   "source": [
    "# Find ratio of missing values in dataset\n",
    "count = (df.isnull().sum() / len(df)) * 100\n",
    "count = count.drop(count[count == 0].index).sort_values(ascending=False)[:30]\n",
    "missing_data = pd.DataFrame({'Missing Ratio' :count})\n",
    "missing_data.head(20)"
   ]
  },
  {
   "cell_type": "code",
   "execution_count": 35,
   "id": "f74c73d5",
   "metadata": {},
   "outputs": [],
   "source": [
    "# dropped embarked na values\n",
    "df.dropna(subset = ['Embarked'], inplace = True)"
   ]
  },
  {
   "cell_type": "code",
   "execution_count": 36,
   "id": "3cf8c40d",
   "metadata": {},
   "outputs": [],
   "source": [
    "# Filling in null value for Fare\n",
    "df['Fare'] = df['Fare'].fillna(df['Fare'].mode()[0])"
   ]
  },
  {
   "cell_type": "code",
   "execution_count": 37,
   "id": "daf3c490",
   "metadata": {},
   "outputs": [],
   "source": [
    "# Filled in NA values for age\n",
    "df['Age'] = df['Age'].fillna(df['Age'].mode()[0])"
   ]
  },
  {
   "cell_type": "code",
   "execution_count": 38,
   "id": "c5a5f01a",
   "metadata": {},
   "outputs": [
    {
     "data": {
      "text/html": [
       "<div>\n",
       "<style scoped>\n",
       "    .dataframe tbody tr th:only-of-type {\n",
       "        vertical-align: middle;\n",
       "    }\n",
       "\n",
       "    .dataframe tbody tr th {\n",
       "        vertical-align: top;\n",
       "    }\n",
       "\n",
       "    .dataframe thead th {\n",
       "        text-align: right;\n",
       "    }\n",
       "</style>\n",
       "<table border=\"1\" class=\"dataframe\">\n",
       "  <thead>\n",
       "    <tr style=\"text-align: right;\">\n",
       "      <th></th>\n",
       "      <th>Missing Ratio</th>\n",
       "    </tr>\n",
       "  </thead>\n",
       "  <tbody>\n",
       "    <tr>\n",
       "      <th>Cabin</th>\n",
       "      <td>77.582249</td>\n",
       "    </tr>\n",
       "    <tr>\n",
       "      <th>Survived</th>\n",
       "      <td>31.981637</td>\n",
       "    </tr>\n",
       "  </tbody>\n",
       "</table>\n",
       "</div>"
      ],
      "text/plain": [
       "          Missing Ratio\n",
       "Cabin         77.582249\n",
       "Survived      31.981637"
      ]
     },
     "execution_count": 38,
     "metadata": {},
     "output_type": "execute_result"
    }
   ],
   "source": [
    "count = (df.isnull().sum() / len(df)) * 100\n",
    "count = count.drop(count[count == 0].index).sort_values(ascending=False)[:30]\n",
    "missing_data = pd.DataFrame({'Missing Ratio' :count})\n",
    "missing_data.head(20)"
   ]
  },
  {
   "cell_type": "code",
   "execution_count": 39,
   "id": "9c6d7075",
   "metadata": {},
   "outputs": [],
   "source": [
    "# Turned pclass and Fare into string since it is categorical\n",
    "df.Pclass = df.Pclass.astype(str)"
   ]
  },
  {
   "cell_type": "markdown",
   "id": "f57f92c9",
   "metadata": {},
   "source": [
    "# Getting Dummies and defining variables"
   ]
  },
  {
   "cell_type": "code",
   "execution_count": 40,
   "id": "5e571130",
   "metadata": {},
   "outputs": [
    {
     "data": {
      "text/plain": [
       "Index(['PassengerId', 'Survived', 'Pclass', 'Name', 'Sex', 'Age', 'SibSp',\n",
       "       'Parch', 'Ticket', 'Fare', 'Cabin', 'Embarked', 'testing',\n",
       "       'cabin_letter', 'cabin_multiple', 'fare_sep', 'ticket_number',\n",
       "       'ticket_letters', 'FamilySize', 'name_title'],\n",
       "      dtype='object')"
      ]
     },
     "execution_count": 40,
     "metadata": {},
     "output_type": "execute_result"
    }
   ],
   "source": [
    "df.columns"
   ]
  },
  {
   "cell_type": "code",
   "execution_count": 41,
   "id": "5a75a08a",
   "metadata": {},
   "outputs": [],
   "source": [
    "df['norm_fare'] = np.log(df.Fare+1)"
   ]
  },
  {
   "cell_type": "code",
   "execution_count": 42,
   "id": "ef618531",
   "metadata": {},
   "outputs": [],
   "source": [
    "# Getting dummies\n",
    "dummies = pd.get_dummies(df[['Pclass','Sex','Age', 'SibSp', 'Parch', 'Embarked', 'norm_fare',\n",
    "                             'cabin_letter', 'cabin_multiple', 'ticket_number',\n",
    "                             'name_title', 'testing']])\n",
    "\n",
    "X_train = dummies[dummies.testing == 1].drop(['testing'], axis =1)\n",
    "X_test = dummies[dummies.testing == 0].drop(['testing'], axis =1)\n",
    "\n",
    "\n",
    "y_train = df[df.testing==1].Survived"
   ]
  },
  {
   "cell_type": "code",
   "execution_count": 43,
   "id": "c3a0277a",
   "metadata": {},
   "outputs": [
    {
     "data": {
      "text/plain": [
       "Index(['Age', 'SibSp', 'Parch', 'norm_fare', 'cabin_multiple', 'ticket_number',\n",
       "       'Pclass_1', 'Pclass_2', 'Pclass_3', 'Sex_female', 'Sex_male',\n",
       "       'Embarked_C', 'Embarked_Q', 'Embarked_S', 'cabin_letter_A',\n",
       "       'cabin_letter_B', 'cabin_letter_C', 'cabin_letter_D', 'cabin_letter_E',\n",
       "       'cabin_letter_F', 'cabin_letter_G', 'cabin_letter_T', 'cabin_letter_n',\n",
       "       'name_title_Master', 'name_title_Miss', 'name_title_Mr',\n",
       "       'name_title_Mrs', 'name_title_Other'],\n",
       "      dtype='object')"
      ]
     },
     "execution_count": 43,
     "metadata": {},
     "output_type": "execute_result"
    }
   ],
   "source": [
    "X_train.columns"
   ]
  },
  {
   "cell_type": "code",
   "execution_count": 44,
   "id": "ec461790",
   "metadata": {},
   "outputs": [
    {
     "data": {
      "text/plain": [
       "(889, 28)"
      ]
     },
     "execution_count": 44,
     "metadata": {},
     "output_type": "execute_result"
    }
   ],
   "source": [
    "X_train.shape"
   ]
  },
  {
   "cell_type": "markdown",
   "id": "f27f3dd9",
   "metadata": {},
   "source": [
    "# Basic Modelling\n",
    "Link to all models used: https://www.educative.io/blog/scikit-learn-cheat-sheet-classification-regression-methods"
   ]
  },
  {
   "cell_type": "code",
   "execution_count": 45,
   "id": "8be3349e",
   "metadata": {},
   "outputs": [
    {
     "data": {
      "text/plain": [
       "Age                  0\n",
       "SibSp                0\n",
       "Parch                0\n",
       "norm_fare            0\n",
       "cabin_multiple       0\n",
       "ticket_number        0\n",
       "Pclass_1             0\n",
       "Pclass_2             0\n",
       "Pclass_3             0\n",
       "Sex_female           0\n",
       "Sex_male             0\n",
       "Embarked_C           0\n",
       "Embarked_Q           0\n",
       "Embarked_S           0\n",
       "cabin_letter_A       0\n",
       "cabin_letter_B       0\n",
       "cabin_letter_C       0\n",
       "cabin_letter_D       0\n",
       "cabin_letter_E       0\n",
       "cabin_letter_F       0\n",
       "cabin_letter_G       0\n",
       "cabin_letter_T       0\n",
       "cabin_letter_n       0\n",
       "name_title_Master    0\n",
       "name_title_Miss      0\n",
       "name_title_Mr        0\n",
       "name_title_Mrs       0\n",
       "name_title_Other     0\n",
       "dtype: int64"
      ]
     },
     "execution_count": 45,
     "metadata": {},
     "output_type": "execute_result"
    }
   ],
   "source": [
    "X_train.isnull().sum()"
   ]
  },
  {
   "cell_type": "code",
   "execution_count": 46,
   "id": "e2edb1c0",
   "metadata": {},
   "outputs": [],
   "source": [
    "# xgboost classifier\n",
    "# Gaussian NB\n",
    "# MultinomialNB\n",
    "# Random Forest Classifier\n",
    "# Gradient Boosting Regressor\n",
    "# Logistic Regression\n",
    "# Support Vector Machine\n",
    "# SGDClassifier\n",
    "# KNeighborsClassifier\n",
    "# DecisionTreeClassifier\n",
    "# GradientBoostingClassifier\n",
    "\n",
    "from sklearn.model_selection import cross_val_score"
   ]
  },
  {
   "cell_type": "code",
   "execution_count": 49,
   "id": "22765bde",
   "metadata": {},
   "outputs": [
    {
     "name": "stdout",
     "output_type": "stream",
     "text": [
      "[15:58:32] WARNING: D:\\bld\\xgboost-split_1643227225381\\work\\src\\learner.cc:1115: Starting in XGBoost 1.3.0, the default evaluation metric used with the objective 'binary:logistic' was changed from 'error' to 'logloss'. Explicitly set eval_metric if you'd like to restore the old behavior.\n",
      "[15:58:32] WARNING: D:\\bld\\xgboost-split_1643227225381\\work\\src\\learner.cc:1115: Starting in XGBoost 1.3.0, the default evaluation metric used with the objective 'binary:logistic' was changed from 'error' to 'logloss'. Explicitly set eval_metric if you'd like to restore the old behavior.\n",
      "[15:58:32] WARNING: D:\\bld\\xgboost-split_1643227225381\\work\\src\\learner.cc:1115: Starting in XGBoost 1.3.0, the default evaluation metric used with the objective 'binary:logistic' was changed from 'error' to 'logloss'. Explicitly set eval_metric if you'd like to restore the old behavior.\n",
      "[15:58:32] WARNING: D:\\bld\\xgboost-split_1643227225381\\work\\src\\learner.cc:1115: Starting in XGBoost 1.3.0, the default evaluation metric used with the objective 'binary:logistic' was changed from 'error' to 'logloss'. Explicitly set eval_metric if you'd like to restore the old behavior.\n",
      "[15:58:32] WARNING: D:\\bld\\xgboost-split_1643227225381\\work\\src\\learner.cc:1115: Starting in XGBoost 1.3.0, the default evaluation metric used with the objective 'binary:logistic' was changed from 'error' to 'logloss'. Explicitly set eval_metric if you'd like to restore the old behavior.\n",
      "[0.79775281 0.82022472 0.85393258 0.80337079 0.83615819]\n",
      "0.82228781819336\n"
     ]
    }
   ],
   "source": [
    "import warnings\n",
    "def ignore_warn(*args, **kwargs):\n",
    "    pass\n",
    "warnings.warn = ignore_warn\n",
    "\n",
    "from xgboost import XGBClassifier\n",
    "xgb = XGBClassifier(random_state =1)\n",
    "cv = cross_val_score(xgb, X_train, y_train, cv=5)\n",
    "print(cv)\n",
    "print(cv.mean())"
   ]
  },
  {
   "cell_type": "code",
   "execution_count": 50,
   "id": "9d6cf0c7",
   "metadata": {},
   "outputs": [
    {
     "name": "stdout",
     "output_type": "stream",
     "text": [
      "[0.70707071 0.78716216 0.80067568]\n",
      "0.7649695149695149\n"
     ]
    }
   ],
   "source": [
    "# Gaussian NB\n",
    "from sklearn.naive_bayes import GaussianNB\n",
    "gnb = GaussianNB()\n",
    "cv = cross_val_score(gnb, X_train, y_train, cv = 3)\n",
    "print(cv)\n",
    "print(cv.mean())"
   ]
  },
  {
   "cell_type": "code",
   "execution_count": 51,
   "id": "6a2df095",
   "metadata": {},
   "outputs": [
    {
     "data": {
      "text/plain": [
       "0.7919126515584333"
      ]
     },
     "execution_count": 51,
     "metadata": {},
     "output_type": "execute_result"
    }
   ],
   "source": [
    "# MultinomialNB\n",
    "from sklearn.naive_bayes import MultinomialNB\n",
    "mn = MultinomialNB()\n",
    "mn.fit(X_train, y_train)\n",
    "np.mean(cross_val_score(mn, X_train, y_train, cv = 5))"
   ]
  },
  {
   "cell_type": "code",
   "execution_count": 52,
   "id": "6fef25b7",
   "metadata": {},
   "outputs": [
    {
     "data": {
      "text/plain": [
       "0.8031676506062337"
      ]
     },
     "execution_count": 52,
     "metadata": {},
     "output_type": "execute_result"
    }
   ],
   "source": [
    "# Random Forest Classifier\n",
    "from sklearn.ensemble import RandomForestClassifier\n",
    "rfc = RandomForestClassifier()\n",
    "np.mean(cross_val_score(rfc, X_train, y_train, cv = 5))"
   ]
  },
  {
   "cell_type": "code",
   "execution_count": 71,
   "id": "4a995bf7",
   "metadata": {},
   "outputs": [
    {
     "data": {
      "text/plain": [
       "0.8223068621849807"
      ]
     },
     "execution_count": 71,
     "metadata": {},
     "output_type": "execute_result"
    }
   ],
   "source": [
    "# Logistic Regression\n",
    "import warnings\n",
    "def ignore_warn(*args, **kwargs):\n",
    "    pass\n",
    "warnings.warn = ignore_warn\n",
    "from sklearn.linear_model import LogisticRegression\n",
    "lr = LogisticRegression()\n",
    "lr.fit(X_train, y_train)\n",
    "np.mean(cross_val_score(lr, X_train, y_train, cv = 5))"
   ]
  },
  {
   "cell_type": "code",
   "execution_count": 55,
   "id": "1e2aa861",
   "metadata": {},
   "outputs": [
    {
     "data": {
      "text/plain": [
       "0.7323113057830255"
      ]
     },
     "execution_count": 55,
     "metadata": {},
     "output_type": "execute_result"
    }
   ],
   "source": [
    "# Support Vector Machine\n",
    "from sklearn.svm import SVC\n",
    "svc = SVC(probability = True)\n",
    "svc.fit(X_train, y_train)\n",
    "np.mean(cross_val_score(svc, X_train, y_train, cv = 5))"
   ]
  },
  {
   "cell_type": "code",
   "execution_count": 56,
   "id": "068655a6",
   "metadata": {},
   "outputs": [
    {
     "data": {
      "text/plain": [
       "0.761512092934679"
      ]
     },
     "execution_count": 56,
     "metadata": {},
     "output_type": "execute_result"
    }
   ],
   "source": [
    "# SGDClassifier\n",
    "from sklearn.linear_model import SGDClassifier\n",
    "sc = SGDClassifier()\n",
    "sc.fit(X_train, y_train)\n",
    "np.mean(cross_val_score(sc, X_train, y_train, cv = 5))"
   ]
  },
  {
   "cell_type": "code",
   "execution_count": 57,
   "id": "2cab9392",
   "metadata": {},
   "outputs": [
    {
     "data": {
      "text/plain": [
       "0.811058211134387"
      ]
     },
     "execution_count": 57,
     "metadata": {},
     "output_type": "execute_result"
    }
   ],
   "source": [
    "# KNeighborsClassifier\n",
    "from sklearn.neighbors import KNeighborsClassifier\n",
    "knc = KNeighborsClassifier()\n",
    "knc.fit(X_train, y_train)\n",
    "np.mean(cross_val_score(knc, X_train, y_train, cv = 5))"
   ]
  },
  {
   "cell_type": "code",
   "execution_count": 58,
   "id": "60d2f06d",
   "metadata": {},
   "outputs": [
    {
     "data": {
      "text/plain": [
       "0.7874119215387545"
      ]
     },
     "execution_count": 58,
     "metadata": {},
     "output_type": "execute_result"
    }
   ],
   "source": [
    "# DecisionTreeClassifier\n",
    "from sklearn.tree import DecisionTreeClassifier\n",
    "dtc = DecisionTreeClassifier()\n",
    "dtc.fit(X_train, y_train)\n",
    "np.mean(cross_val_score(dtc, X_train, y_train, cv = 5))"
   ]
  },
  {
   "cell_type": "code",
   "execution_count": 59,
   "id": "371ebb37",
   "metadata": {},
   "outputs": [
    {
     "data": {
      "text/plain": [
       "0.835809052244017"
      ]
     },
     "execution_count": 59,
     "metadata": {},
     "output_type": "execute_result"
    }
   ],
   "source": [
    "# GradientBoostingClassifier\n",
    "from sklearn.ensemble import GradientBoostingClassifier\n",
    "gbc = GradientBoostingClassifier()\n",
    "gbc.fit(X_train, y_train)\n",
    "np.mean(cross_val_score(gbc, X_train, y_train, cv = 5))"
   ]
  },
  {
   "cell_type": "markdown",
   "id": "bdc21191",
   "metadata": {},
   "source": [
    "# Top 6 models"
   ]
  },
  {
   "cell_type": "code",
   "execution_count": null,
   "id": "4e7bb1a1",
   "metadata": {},
   "outputs": [],
   "source": [
    "# GradientBoostingClassifier (83.58%)\n",
    "# DecisionTreeClassifier (78.74%)\n",
    "# KNeighborsClassifier (81.11%)\n",
    "# Logistic Regression (82.23%)\n",
    "# Random Forest Classifier (80.31%)\n",
    "# SGDClassifier (76.15%)"
   ]
  },
  {
   "cell_type": "markdown",
   "id": "2176e4e9",
   "metadata": {},
   "source": [
    "# Tuning models with gridsearchCV"
   ]
  },
  {
   "cell_type": "code",
   "execution_count": 50,
   "id": "1b42bb76",
   "metadata": {},
   "outputs": [],
   "source": [
    "from sklearn.model_selection import GridSearchCV"
   ]
  },
  {
   "cell_type": "code",
   "execution_count": 61,
   "id": "91cb9a48",
   "metadata": {},
   "outputs": [
    {
     "data": {
      "text/plain": [
       "0.8200624867291534"
      ]
     },
     "execution_count": 61,
     "metadata": {},
     "output_type": "execute_result"
    }
   ],
   "source": [
    "# GradientBoostingClassifier (83.58%)\n",
    "parameter = [\n",
    "    {'n_estimators': [200, 225, 250, 275], 'max_features': ('auto', 'sqrt', 'log2'), 'max_depth': [5, 7, 9]}\n",
    "]\n",
    "gs_gbc = GridSearchCV(GradientBoostingClassifier(), parameter, cv = 3)\n",
    "gs_gbc.fit(X_train, y_train)\n",
    "gs_gbc.best_score_"
   ]
  },
  {
   "cell_type": "code",
   "execution_count": 62,
   "id": "79b3208c",
   "metadata": {},
   "outputs": [
    {
     "data": {
      "text/plain": [
       "0.8335301212467467"
      ]
     },
     "execution_count": 62,
     "metadata": {},
     "output_type": "execute_result"
    }
   ],
   "source": [
    "parameter = [\n",
    "    {'n_estimators': [200, 225, 250, 275], 'max_features': [6, 8, 10, 12], 'max_depth': [5, 7, 9]}\n",
    "]\n",
    "gs_gbc = GridSearchCV(GradientBoostingClassifier(), parameter, cv = 5)\n",
    "gs_gbc.fit(X_train, y_train)\n",
    "gs_gbc.best_score_"
   ]
  },
  {
   "cell_type": "code",
   "execution_count": 63,
   "id": "4bc1d05d",
   "metadata": {},
   "outputs": [
    {
     "data": {
      "text/plain": [
       "0.8189297276709198"
      ]
     },
     "execution_count": 63,
     "metadata": {},
     "output_type": "execute_result"
    }
   ],
   "source": [
    "# DecisionTreeClassifier (78.74%)\n",
    "parameter = [\n",
    "    {'criterion': ['gini', 'entropy'], \n",
    "     'max_features': ['sqrt', 'auto', 10, 12], 'max_depth': [5, 7, 9]}\n",
    "]\n",
    "gs_dt = GridSearchCV(DecisionTreeClassifier(), parameter, cv = 5)\n",
    "gs_dt.fit(X_train, y_train)\n",
    "gs_dt.best_score_"
   ]
  },
  {
   "cell_type": "code",
   "execution_count": 64,
   "id": "e612c8bb",
   "metadata": {},
   "outputs": [
    {
     "data": {
      "text/plain": [
       "0.8234143234143234"
      ]
     },
     "execution_count": 64,
     "metadata": {},
     "output_type": "execute_result"
    }
   ],
   "source": [
    "parameters = {'max_iter' : [2000],\n",
    "              'penalty' : ['l1', 'l2'],\n",
    "              'C' : np.logspace(-4, 4, 20),\n",
    "              'solver' : ['liblinear']}\n",
    "gs_dt = GridSearchCV(DecisionTreeClassifier(), parameter, cv = 3)\n",
    "gs_dt.fit(X_train, y_train)\n",
    "gs_dt.best_score_"
   ]
  },
  {
   "cell_type": "code",
   "execution_count": 67,
   "id": "ed58b041",
   "metadata": {},
   "outputs": [
    {
     "name": "stdout",
     "output_type": "stream",
     "text": [
      "Fitting 5 folds for each of 48 candidates, totalling 240 fits\n"
     ]
    },
    {
     "data": {
      "text/plain": [
       "0.812188154637212"
      ]
     },
     "execution_count": 67,
     "metadata": {},
     "output_type": "execute_result"
    }
   ],
   "source": [
    "# KNeighborsClassifier (81.11%)\n",
    "knn = KNeighborsClassifier()\n",
    "parameter = {'n_neighbors' : [3,5,7,9],\n",
    "              'weights' : ['uniform', 'distance'],\n",
    "              'algorithm' : ['auto', 'ball_tree','kd_tree'],\n",
    "              'p' : [1,2]}\n",
    "gs_knn = GridSearchCV(knn, parameter, cv = 5, verbose = True, n_jobs = -1)\n",
    "gs_knn.fit(X_train, y_train)\n",
    "gs_knn.best_score_"
   ]
  },
  {
   "cell_type": "code",
   "execution_count": 68,
   "id": "4820bc53",
   "metadata": {},
   "outputs": [
    {
     "name": "stdout",
     "output_type": "stream",
     "text": [
      "Fitting 3 folds for each of 40 candidates, totalling 120 fits\n"
     ]
    },
    {
     "data": {
      "text/plain": [
       "0.8234181150847818"
      ]
     },
     "execution_count": 68,
     "metadata": {},
     "output_type": "execute_result"
    }
   ],
   "source": [
    "# Logistic Regression (82.23%)\n",
    "parameter = {'max_iter' : [2000],\n",
    "             'penalty' : ['l1', 'l2'],              \n",
    "             'C' : np.logspace(-4, 4, 20),\n",
    "             'solver' : ['liblinear']}\n",
    "gs_lr = GridSearchCV(LogisticRegression(), parameter, verbose = True, n_jobs = -1, cv = 3)\n",
    "gs_lr.fit(X_train, y_train)\n",
    "gs_lr.best_score_"
   ]
  },
  {
   "cell_type": "code",
   "execution_count": 70,
   "id": "0e1d63a2",
   "metadata": {},
   "outputs": [
    {
     "data": {
      "text/plain": [
       "0.8256589923256591"
      ]
     },
     "execution_count": 70,
     "metadata": {},
     "output_type": "execute_result"
    }
   ],
   "source": [
    "import warnings\n",
    "def ignore_warn(*args, **kwargs):\n",
    "    pass\n",
    "warnings.warn = ignore_warn\n",
    "\n",
    "\n",
    "parameter = {'max_iter' : [1000],\n",
    "             'penalty' : ['l1', 'l2', 'elasticnet'],\n",
    "             'C' : np.logspace(-4, 4, 20),\n",
    "            }\n",
    "gs_lr = GridSearchCV(LogisticRegression(), parameter, cv = 3)\n",
    "gs_lr.fit(X_train, y_train)\n",
    "gs_lr.best_score_"
   ]
  },
  {
   "cell_type": "code",
   "execution_count": 72,
   "id": "8f1eb848",
   "metadata": {},
   "outputs": [
    {
     "name": "stdout",
     "output_type": "stream",
     "text": [
      "Fitting 5 folds for each of 288 candidates, totalling 1440 fits\n"
     ]
    },
    {
     "data": {
      "text/plain": [
       "0.833568209229988"
      ]
     },
     "execution_count": 72,
     "metadata": {},
     "output_type": "execute_result"
    }
   ],
   "source": [
    "# Random Forest Classifier (80.31%)\n",
    "rf = RandomForestClassifier(random_state = 1)\n",
    "param_grid =  {'n_estimators': [400,450,500,550],\n",
    "               'criterion':['gini','entropy'],\n",
    "                                  'bootstrap': [True],\n",
    "                                  'max_depth': [15, 20, 25],\n",
    "                                  'max_features': ['auto','sqrt', 10],\n",
    "                                  'min_samples_leaf': [2,3],\n",
    "                                  'min_samples_split': [2,3]}\n",
    "                                  \n",
    "gs_rf = GridSearchCV(rf, param_grid = param_grid, cv = 5, verbose = True, n_jobs = -1)\n",
    "gs_rf.fit(X_train, y_train)\n",
    "gs_rf.best_score_"
   ]
  },
  {
   "cell_type": "code",
   "execution_count": 73,
   "id": "541c66eb",
   "metadata": {},
   "outputs": [
    {
     "data": {
      "text/plain": [
       "0.8032120865866819"
      ]
     },
     "execution_count": 73,
     "metadata": {},
     "output_type": "execute_result"
    }
   ],
   "source": [
    "# SGDClassifier (76.15%)\n",
    "parameter = {'penalty' : ['l1', 'l2', 'elasticnet'],\n",
    "\n",
    "}\n",
    "gs_sc = GridSearchCV(sc, parameter, cv = 5)\n",
    "gs_sc.fit(X_train, y_train)\n",
    "gs_sc.best_score_"
   ]
  },
  {
   "cell_type": "markdown",
   "id": "d70a65a0",
   "metadata": {},
   "source": [
    "# Predictions"
   ]
  },
  {
   "cell_type": "code",
   "execution_count": null,
   "id": "4f5b0024",
   "metadata": {},
   "outputs": [],
   "source": [
    "tpred_gbc = gs_gbc.predict(X_test).astype(int)\n",
    "tpred_dt = gs_dt.predict(X_test).astype(int)\n",
    "tpred_lr = gs_lr.predict(X_test).astype(int)\n",
    "tpred_rf = gs_rf.predict(X_test).astype(int)\n",
    "tpred_sc = gs_sc.predict(X_test).astype(int)"
   ]
  },
  {
   "cell_type": "markdown",
   "id": "c9b795c8",
   "metadata": {},
   "source": [
    "# predictions to dataframe"
   ]
  },
  {
   "cell_type": "code",
   "execution_count": null,
   "id": "27749676",
   "metadata": {},
   "outputs": [],
   "source": [
    "final_data = {'PassengerId': test.PassengerId, 'Survived': tpred_gbc}\n",
    "submission = pd.DataFrame(data=final_data)\n",
    "\n",
    "final_data_2 = {'PassengerId': test.PassengerId, 'Survived': tpred_dt}\n",
    "submission_2 = pd.DataFrame(data=final_data_2)\n",
    "\n",
    "final_data_3 = {'PassengerId': test.PassengerId, 'Survived': tpred_lr}\n",
    "submission_3 = pd.DataFrame(data=final_data_3)\n",
    "\n",
    "final_data_4 = {'PassengerId': test.PassengerId, 'Survived': tpred_rf}\n",
    "submission_4 = pd.DataFrame(data=final_data_4)\n",
    "\n",
    "final_data_5 = {'PassengerId': test.PassengerId, 'Survived': tpred_sc}\n",
    "submission_5 = pd.DataFrame(data=final_data_5)"
   ]
  },
  {
   "cell_type": "code",
   "execution_count": null,
   "id": "9a11d2be",
   "metadata": {},
   "outputs": [],
   "source": [
    "submission.to_csv('submission_gbc.csv', index = False)\n",
    "submission_2.to_csv('submission_dt.csv',index = False)\n",
    "submission_3.to_csv('submission_lr.csv', index = False)\n",
    "submission_4.to_csv('submission_rf.csv', index = False)\n",
    "submission_5.to_csv('submission_sgdc.csv', index = False)"
   ]
  },
  {
   "cell_type": "code",
   "execution_count": 51,
   "id": "daeff3fd",
   "metadata": {},
   "outputs": [
    {
     "name": "stdout",
     "output_type": "stream",
     "text": [
      "Fitting 5 folds for each of 243 candidates, totalling 1215 fits\n",
      "[16:03:48] WARNING: D:\\bld\\xgboost-split_1643227225381\\work\\src\\learner.cc:1115: Starting in XGBoost 1.3.0, the default evaluation metric used with the objective 'binary:logistic' was changed from 'error' to 'logloss'. Explicitly set eval_metric if you'd like to restore the old behavior.\n"
     ]
    },
    {
     "data": {
      "text/plain": [
       "0.8571510188535518"
      ]
     },
     "execution_count": 51,
     "metadata": {},
     "output_type": "execute_result"
    }
   ],
   "source": [
    "import xgboost as xgb\n",
    "xgb = XGBClassifier(random_state = 1)\n",
    "\n",
    "parameter = {\n",
    "    'n_estimators': [450,500,550],\n",
    "    'colsample_bytree': [0.75,0.8,0.85],\n",
    "    'max_depth': [None],\n",
    "    'reg_alpha': [1],\n",
    "    'reg_lambda': [2, 5, 10],\n",
    "    'subsample': [0.55, 0.6, .65],\n",
    "    'learning_rate':[0.5],\n",
    "    'gamma':[.5,1,2],\n",
    "    'min_child_weight':[0.01],\n",
    "    'sampling_method': ['uniform']\n",
    "}\n",
    "\n",
    "clf_xgb = GridSearchCV(xgb, parameter, cv = 5, verbose = True, n_jobs = -1)\n",
    "clf_xgb.fit(X_train, y_train)\n",
    "clf_xgb.best_score_"
   ]
  }
 ],
 "metadata": {
  "kernelspec": {
   "display_name": "Python 3",
   "language": "python",
   "name": "python3"
  },
  "language_info": {
   "codemirror_mode": {
    "name": "ipython",
    "version": 3
   },
   "file_extension": ".py",
   "mimetype": "text/x-python",
   "name": "python",
   "nbconvert_exporter": "python",
   "pygments_lexer": "ipython3",
   "version": "3.8.8"
  }
 },
 "nbformat": 4,
 "nbformat_minor": 5
}
